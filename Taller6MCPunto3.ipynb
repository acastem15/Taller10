{
  "cells": [
    {
      "cell_type": "markdown",
      "metadata": {
        "id": "Haqd76Hlz2V6"
      },
      "source": [
        "## Problema 3\n",
        "\n",
        "Un método para medir el nivel de pH de una solución resulta en una medición con un valor que está distribuido de forma normal con un promedio igual al nivel de pH y una desviación estándar de 0.05. Un ingeniero ambiental afirma que las dos soluciones vienen de la misma fuente. Si esta hipótesis fuera correcta entonces el nivel de pH de las soluciones sería igual. Para probar la veracidad de esta afirmación se realizaron 10 mediciones independientes del nivel de pH de juntas soluciones, los datos son los siguientes.\n",
        "\n",
        "![](https://raw.githubusercontent.com/diegour1/MetodosComputacionales1/main/DataFiles/image10.png)\n",
        "\n",
        "1.   Calcule el $p$ value, guárdelo en la variable `p_value`.\n",
        "2.   Qué puede concluir con un level of significance de $\\alpha = 0.05$, guarde la conclusión en el string `conclusion`\n",
        "\n",
        "Incluya el siguiente `print` al final:\n",
        "\n",
        "```\n",
        "print(f\"p value = {p_value}, la conclusion es:  {conclusion}\")\n",
        "```\n",
        "\n",
        "\n",
        "\n"
      ]
    },
    {
      "cell_type": "code",
      "execution_count": 32,
      "metadata": {
        "colab": {
          "base_uri": "https://localhost:8080/"
        },
        "id": "1Dzy37PS7-rg",
        "outputId": "30ecba38-fb77-4685-df61-3b6cb511e59a"
      },
      "outputs": [
        {
          "name": "stdout",
          "output_type": "stream",
          "text": [
            "Valor del estadistico: 0.8049844718998752\n",
            "p value = 0.21041432026749918, la conclusion es:  True\n"
          ]
        }
      ],
      "source": [
        "# tu codigo aqui\n",
        "import numpy as np\n",
        "from scipy import stats\n",
        "desviacion = 0.05\n",
        "n = 10 \n",
        "\n",
        "#datos\n",
        "dataA =[6.24,6.31,6.28,6.30,6.25,6.26,6.24,6.29,6.22,6.28]\n",
        "dataB =[6.27,6.25,6.33,6.27,6.24,6.31,6.28,6.29,6.34,6.27]\n",
        "\n",
        "promA= 0 \n",
        "for eA in dataA: \n",
        "    promA += eA\n",
        "promAp = promA\n",
        "promA = promA/n \n",
        " \n",
        "promB= 0 \n",
        "for eB in dataB: \n",
        "    promB += eB\n",
        "promBp = promB\n",
        "promB = promB/n\n",
        "\n",
        "\n",
        "##promTotal = (promAp+promBp)/ (2*n)\n",
        "\n",
        "##Estadistico de prueba\n",
        "\n",
        "z = (promB-promA)/ np.sqrt(2*(desviacion**2/n))\n",
        "\n",
        "print(f\"Valor del estadistico: {z}\")\n",
        "pValue =  stats.norm.sf (abs(z)) #Saca p-Value\n",
        "\n",
        "\n",
        "## Nivel de significancia\n",
        "\n",
        "alpha = 0.05\n",
        "\n",
        "if pValue >= alpha: \n",
        "    conclusion = True\n",
        "else: \n",
        "    conclusion= False\n",
        "\n",
        "\n",
        "\n",
        "print(f\"p value = {pValue}, la conclusion es:  {conclusion}\")"
      ]
    }
  ],
  "metadata": {
    "colab": {
      "name": "Taller6MC.ipynb",
      "provenance": []
    },
    "interpreter": {
      "hash": "387c10d9c3cbab4a4b1d7026a497f23ac305f87c337c67124169fdef2a1eb6d8"
    },
    "kernelspec": {
      "display_name": "Python 3.9.5 64-bit",
      "language": "python",
      "name": "python3"
    },
    "language_info": {
      "codemirror_mode": {
        "name": "ipython",
        "version": 3
      },
      "file_extension": ".py",
      "mimetype": "text/x-python",
      "name": "python",
      "nbconvert_exporter": "python",
      "pygments_lexer": "ipython3",
      "version": "3.9.5"
    }
  },
  "nbformat": 4,
  "nbformat_minor": 0
}
